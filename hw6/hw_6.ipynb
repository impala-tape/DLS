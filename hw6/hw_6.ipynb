{
  "cells": [
    {
      "cell_type": "markdown",
      "metadata": {
        "id": "3AbTeDP5Tbou"
      },
      "source": [
        "<h3 style=\"text-align: center;\"><b>Школа глубокого обучения ФПМИ МФТИ</b></h3>\n",
        "\n",
        "<h3 style=\"text-align: center;\"><b>Домашнее задание. Сегментация изображений</b></h3>\n",
        "\n",
        "В этом задании вам предстоит решить задачу сегментации медицинских снимков. Домашнее задание можно разделить на следующие части:\n",
        "\n",
        "* Построй свой первый бейзлайн! [6]\n",
        "  * BCE Loss [2]\n",
        "  * SegNet [2]\n",
        "  * Train [1]\n",
        "  * Test [1]\n",
        "* Мир других лоссов! [2]\n",
        "  * Dice Loss [1]\n",
        "  * Focal Loss [1]\n",
        "  * BONUS: лосс из статьи [5]\n",
        "* Новая модель! [2]\n",
        "  * UNet [2]\n",
        "\n",
        "**Максимальный балл:** 10 баллов.\n",
        "\n",
        "Также для студентов желающих еще более углубиться в задачу предлагается решить бонусное задание, которое даст дополнительные 5 баллов. BONUS задание необязательное.\n"
      ]
    },
    {
      "cell_type": "markdown",
      "metadata": {
        "id": "GJM7MHbsmaFC"
      },
      "source": [
        "# Загрузка данных"
      ]
    },
    {
      "cell_type": "markdown",
      "metadata": {
        "id": "k2QCMgENTbox"
      },
      "source": [
        "1. Для начала мы скачаем датасет: [ADDI project](https://www.fc.up.pt/addi/ph2%20database.html).\n",
        "2. Разархивируем .rar файл.\n",
        "3. Обратите внимание, что папка  `PH2 Dataset images` должна лежать там же где и ipynb notebook.\n",
        "\n",
        "Это фотографии двух типов **поражений кожи:** меланома и родинки.\n",
        "В данном задании мы не будем заниматься их классификацией, а будем **сегментировать** их."
      ]
    },
    {
      "cell_type": "code",
      "execution_count": null,
      "metadata": {
        "colab": {
          "base_uri": "https://localhost:8080/"
        },
        "id": "Jc97-tI-MulP",
        "outputId": "deb89b9c-a3a0-403e-bca0-6e8bdfc782ac"
      },
      "outputs": [
        {
          "name": "stdout",
          "output_type": "stream",
          "text": [
            "Downloading...\n",
            "From (original): https://drive.google.com/uc?id=1T_RPkPP0jeWwK8L1UrmBw8V30eD7v6Ql\n",
            "From (redirected): https://drive.google.com/uc?id=1T_RPkPP0jeWwK8L1UrmBw8V30eD7v6Ql&confirm=t&uuid=9d6d1248-90bf-446a-9596-6e05e815429e\n",
            "To: /content/PH2Dataset.rar\n",
            "100% 162M/162M [00:01<00:00, 90.4MB/s]\n"
          ]
        }
      ],
      "source": [
        "!gdown 1T_RPkPP0jeWwK8L1UrmBw8V30eD7v6Ql"
      ]
    },
    {
      "cell_type": "code",
      "execution_count": null,
      "metadata": {
        "id": "aax7-y3GUJ-E"
      },
      "outputs": [],
      "source": [
        "get_ipython().system_raw(\"unrar x PH2Dataset.rar\")"
      ]
    },
    {
      "cell_type": "markdown",
      "metadata": {
        "id": "u7feNwXOTboz"
      },
      "source": [
        "Стуктура датасета у нас следующая:\n",
        "\n",
        "    IMD_002/\n",
        "        IMD002_Dermoscopic_Image/\n",
        "            IMD002.bmp\n",
        "        IMD002_lesion/\n",
        "            IMD002_lesion.bmp\n",
        "        IMD002_roi/\n",
        "            ...\n",
        "    IMD_003/\n",
        "        ...\n",
        "        ...\n",
        "\n",
        " Здесь `X.bmp` — изображение, которое нужно сегментировать, `X_lesion.bmp` — результат сегментации.\n",
        "\n",
        "Для загрузки датасета можно использовать skimage: [`skimage.io.imread()`](https://scikit-image.org/docs/dev/api/skimage.io.html)"
      ]
    },
    {
      "cell_type": "code",
      "execution_count": null,
      "metadata": {
        "id": "DJiSRaM3Tbo1"
      },
      "outputs": [],
      "source": [
        "images = []\n",
        "lesions = []\n",
        "from skimage.io import imread\n",
        "import os\n",
        "root = 'PH2Dataset'\n",
        "\n",
        "for root, dirs, files in os.walk(os.path.join(root, 'PH2 Dataset images')):\n",
        "    if root.endswith('_Dermoscopic_Image'):\n",
        "        images.append(imread(os.path.join(root, files[0])))\n",
        "    if root.endswith('_lesion'):\n",
        "        lesions.append(imread(os.path.join(root, files[0])))"
      ]
    },
    {
      "cell_type": "markdown",
      "metadata": {
        "id": "_twp3KFiTbpC"
      },
      "source": [
        "Изображения имеют разные размеры. Давайте изменим их размер на $256\\times256 $ пикселей. Для изменения размера изображений можно использовать [`skimage.transform.resize()`](https://scikit-image.org/docs/dev/api/skimage.transform.html#skimage.transform.resize).\n",
        "Эта функция также автоматически нормализует изображения в диапазоне $[0,1]$.\n"
      ]
    },
    {
      "cell_type": "code",
      "execution_count": null,
      "metadata": {
        "id": "ODC0aMJBTbpH"
      },
      "outputs": [],
      "source": [
        "from skimage.transform import resize\n",
        "size = (256, 256)\n",
        "X = [resize(x, size, mode='constant', anti_aliasing=True,) for x in images]\n",
        "Y = [resize(y, size, mode='constant', anti_aliasing=False) > 0.5 for y in lesions]"
      ]
    },
    {
      "cell_type": "code",
      "execution_count": null,
      "metadata": {
        "colab": {
          "base_uri": "https://localhost:8080/"
        },
        "id": "8m5zleU8TbpO",
        "outputId": "6c2987b6-25cc-4498-d34e-a8edf931dcf2"
      },
      "outputs": [
        {
          "name": "stdout",
          "output_type": "stream",
          "text": [
            "Loaded 200 images\n"
          ]
        }
      ],
      "source": [
        "import numpy as np\n",
        "X = np.array(X, np.float32)\n",
        "Y = np.array(Y, np.float32)\n",
        "print(f'Loaded {len(X)} images')"
      ]
    },
    {
      "cell_type": "markdown",
      "metadata": {
        "id": "4RL-7C-fTbpV"
      },
      "source": [
        "Чтобы убедиться, что все корректно, мы нарисуем несколько изображений"
      ]
    },
    {
      "cell_type": "code",
      "execution_count": null,
      "metadata": {
        "colab": {
          "base_uri": "https://localhost:8080/",
          "height": 488
        },
        "id": "7iS3oK0hTbpX",
        "outputId": "3b29d276-2d58-46c4-f990-4555abbf9737"
      },
      "outputs": [
        {
          "data": {
            "text/plain": [
              "<Figure size 1800x600 with 12 Axes>"
            ]
          },
          "metadata": {},
          "output_type": "display_data"
        }
      ],
      "source": [
        "import matplotlib.pyplot as plt\n",
        "from IPython.display import clear_output\n",
        "\n",
        "plt.figure(figsize=(18, 6))\n",
        "for i in range(6):\n",
        "    plt.subplot(2, 6, i+1)\n",
        "    plt.axis(\"off\")\n",
        "    plt.imshow(X[i])\n",
        "\n",
        "    plt.subplot(2, 6, i+7)\n",
        "    plt.axis(\"off\")\n",
        "    plt.imshow(Y[i])\n",
        "plt.show();"
      ]
    },
    {
      "cell_type": "markdown",
      "metadata": {
        "id": "KKFGOpePTbpd"
      },
      "source": [
        "Разделим наши 200 картинок на 100/50/50\n",
        " для обучения, валидации и теста соответственно"
      ]
    },
    {
      "cell_type": "code",
      "execution_count": null,
      "metadata": {
        "id": "imqjeizbTbpe"
      },
      "outputs": [],
      "source": [
        "ix = np.random.choice(len(X), len(X), False)\n",
        "tr, val, ts = np.split(ix, [100, 150])"
      ]
    },
    {
      "cell_type": "code",
      "execution_count": null,
      "metadata": {
        "colab": {
          "base_uri": "https://localhost:8080/"
        },
        "id": "j-uxCdAKTbpi",
        "outputId": "638dd1ff-9b95-438a-ace0-145224885065"
      },
      "outputs": [
        {
          "name": "stdout",
          "output_type": "stream",
          "text": [
            "100 50 50\n"
          ]
        }
      ],
      "source": [
        "print(len(tr), len(val), len(ts))"
      ]
    }
  ]
}
